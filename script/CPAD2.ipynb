{
 "cells": [
  {
   "cell_type": "code",
   "id": "initial_id",
   "metadata": {
    "collapsed": true,
    "ExecuteTime": {
     "end_time": "2024-12-12T12:10:15.095804Z",
     "start_time": "2024-12-12T12:10:14.951874Z"
    }
   },
   "source": [
    "%load_ext autoreload\n",
    "%autoreload 2\n",
    "%cd 'python/AggNet'\n",
    "%ls"
   ],
   "outputs": [
    {
     "name": "stdout",
     "output_type": "stream",
     "text": [
      "/home/hew/python/AggNet\n",
      "APNet_CPAD2_results.csv  \u001B[0m\u001B[01;34mcheckpoint\u001B[0m/  \u001B[01;34mfigure\u001B[0m/     README.md  \u001B[01;34mutils\u001B[0m/\r\n",
      "APNet_results.csv        \u001B[01;34mdata\u001B[0m/        install.sh  \u001B[01;34mscript\u001B[0m/\r\n",
      "APRNet_results.csv       \u001B[01;34mdataset\u001B[0m/     \u001B[01;34mmodel\u001B[0m/      \u001B[01;34mtemp\u001B[0m/\r\n"
     ]
    }
   ],
   "execution_count": 1
  },
  {
   "metadata": {
    "ExecuteTime": {
     "end_time": "2024-12-12T12:10:15.160900Z",
     "start_time": "2024-12-12T12:10:15.156947Z"
    }
   },
   "cell_type": "code",
   "source": "",
   "id": "f37310f536e25d09",
   "outputs": [],
   "execution_count": null
  },
  {
   "metadata": {
    "ExecuteTime": {
     "end_time": "2024-12-12T12:10:17.390886Z",
     "start_time": "2024-12-12T12:10:15.339070Z"
    }
   },
   "cell_type": "code",
   "source": [
    "import pandas as pd\n",
    "\n",
    "from utils.file import write_fasta"
   ],
   "id": "28a3c129b525fcf",
   "outputs": [
    {
     "name": "stdout",
     "output_type": "stream",
     "text": [
      "==================== add root_path to sys.path ====================\n",
      "root_path: /home/hew/python/AggNet\n",
      "======================================================================================\n"
     ]
    }
   ],
   "execution_count": 2
  },
  {
   "metadata": {
    "ExecuteTime": {
     "end_time": "2024-12-12T12:10:18.254053Z",
     "start_time": "2024-12-12T12:10:17.420898Z"
    }
   },
   "cell_type": "code",
   "source": [
    "df = pd.read_excel('./data/CPAD2/aggregating peptides.xlsx')\n",
    "df"
   ],
   "id": "abdde7035fb1f716",
   "outputs": [
    {
     "data": {
      "text/plain": [
       "       Entry                                            Peptide  Length  \\\n",
       "0     P-0001                                                GYE       3   \n",
       "1     P-0002                                               KFFE       4   \n",
       "2     P-0003                                               KVVE       4   \n",
       "3     P-0004                                               NNQQ       4   \n",
       "4     P-0005                                               VKSE       4   \n",
       "...      ...                                                ...     ...   \n",
       "2026  P-2027  GQGGGTHNQWNKPSKPKTNMKHMAGAAAAGAVVGGLGGYMLGSAMS...      56   \n",
       "2027  P-2028  GQPHGGGWGQGGGTHSQWNKPSKPKTNMKHMAGAAAAGAVVGGLGG...      65   \n",
       "2028  P-2029  MATLEKLMKAFESLKSFQQQQQQQQQQQQQQQQQQQQQQQQQQQQQ...      71   \n",
       "2029  P-2030  GKTKEGVLYVGSKTKEGVVHGVATVAEKTKEQVTNVGGAVVTGVTA...      79   \n",
       "2030  P-2031  DEPPQSPWDRVKDLATVYVDVLKDSRRDYVSQFEGSALGKQLNLKL...      83   \n",
       "\n",
       "     Classification Uniprot Entry Name Uniprot ID  \\\n",
       "0           Amyloid           A4_HUMAN     P05067   \n",
       "1           Amyloid                NaN        NaN   \n",
       "2           Amyloid                NaN        NaN   \n",
       "3           Amyloid         ERF3_YEAST     P05453   \n",
       "4       Non-amyloid          TAU_HUMAN     P10636   \n",
       "...             ...                ...        ...   \n",
       "2026        Amyloid           PRIO_SHA        NaN   \n",
       "2027        Amyloid         PRIO_HUMAN     P04156   \n",
       "2028        Amyloid                NaN        NaN   \n",
       "2029        Amyloid         SYUA_HUMAN     P37840   \n",
       "2030        Amyloid       APOC2_HUMAN      P02655   \n",
       "\n",
       "                                           Protein Name Position  \\\n",
       "0                  Amyloid-beta precursor protein (APP)  680-682   \n",
       "1                                                   NaN      NaN   \n",
       "2                                                   NaN      NaN   \n",
       "3     Eukaryotic peptide chain release factor GTP-bi...     8-11   \n",
       "4          Microtubule-associated protein tau (PHF-tau)      NaN   \n",
       "...                                                 ...      ...   \n",
       "2026                                                NaN      NaN   \n",
       "2027                          Major prion protein (PrP)   82-146   \n",
       "2028                                                NaN      NaN   \n",
       "2029                                    Alpha-synuclein   31-109   \n",
       "2030                      Apolipoprotein C-II (ApoC-II)      NaN   \n",
       "\n",
       "       % Helix (PASTA 2.0)   % Beta Strand (PASTA 2.0)  ...   Tango  \\\n",
       "0                 0.000000                    0.000000  ...    0.00   \n",
       "1                 0.000000                    0.000000  ...    0.00   \n",
       "2                 0.000000                    0.000000  ...    0.00   \n",
       "3                 0.000000                    0.000000  ...    0.00   \n",
       "4                 0.000000                    0.000000  ...    0.00   \n",
       "...                    ...                         ...  ...     ...   \n",
       "2026             44.642857                    0.000000  ...   15.38   \n",
       "2027             30.769231                    7.692308  ...   16.50   \n",
       "2028             77.464789                    0.000000  ...    0.00   \n",
       "2029              2.531646                   48.101266  ...  806.49   \n",
       "2030             85.542169                    0.000000  ...  349.11   \n",
       "\n",
       "      % Disorder (PASTA 2.0)  Best Energy Score (PASTA 2.0)  \\\n",
       "0                 100.000000                   10000.000000   \n",
       "1                 100.000000                      -2.222498   \n",
       "2                 100.000000                      -2.838181   \n",
       "3                 100.000000                       1.802299   \n",
       "4                 100.000000                       0.586433   \n",
       "...                      ...                            ...   \n",
       "2026               41.071429                      -2.172841   \n",
       "2027               63.076923                      -4.751561   \n",
       "2028              100.000000                      -1.123618   \n",
       "2029               22.784810                      -7.239327   \n",
       "2030               20.481928                      -6.052908   \n",
       "\n",
       "      Aggregate Orientation (PASTA 2.0)  Mutant  \\\n",
       "0                          Antiparallel      No   \n",
       "1                          Antiparallel     NaN   \n",
       "2                          Antiparallel     NaN   \n",
       "3                          Antiparallel     NaN   \n",
       "4                          Antiparallel     NaN   \n",
       "...                                 ...     ...   \n",
       "2026                           Parallel     NaN   \n",
       "2027                           Parallel      No   \n",
       "2028                       Antiparallel     NaN   \n",
       "2029                           Parallel      No   \n",
       "2030                           Parallel     NaN   \n",
       "\n",
       "                                       Protein Sequence  Amyloid Structure  \\\n",
       "0     MLPGLALLLLAAWTARALEVPTDGNAGLLAEPQIAMFCGRLNMHMN...      No structures   \n",
       "1                                                   NaN      No structures   \n",
       "2                                                   NaN      No structures   \n",
       "3     MSDSNQGNNQQNYQQYSQNGNQQQGNNRYQGYQAYNAQAQPAGGYY...      No structures   \n",
       "4                                                   NaN      No structures   \n",
       "...                                                 ...                ...   \n",
       "2026                                                NaN      No structures   \n",
       "2027  MANLGCWMLVLFVATWSDLGLCKKRPKPGGWNTGGSRYPGQGSPGG...      No structures   \n",
       "2028                                                NaN      No structures   \n",
       "2029  MDVFMKGLSKAKEGVVAAAEKTKQGVAEAAGKTKEGVLYVGSKTKE...      No structures   \n",
       "2030  MGTRLLPALFLVLLVLGFEVQGTQQPQQDEMPSPTFLTQVKESLSS...      No structures   \n",
       "\n",
       "                                              Reference      PMID  \\\n",
       "0                   Org Lett. 2008 Jul 3;10(13):2625-8.  18529009   \n",
       "1              J Biol Chem. 2002 Nov 8;277(45):43243-6.  12215440   \n",
       "2              J Biol Chem. 2002 Nov 8;277(45):43243-6.  12215440   \n",
       "3                  Nature. 2007 May 24;447(7143):453-7.  17468747   \n",
       "4     Proc Natl Acad Sci U S A. 2000 May 9;97(10):51...  10805776   \n",
       "...                                                 ...       ...   \n",
       "2026               Nature. 2007 May 24;447(7143):453-7.  17468747   \n",
       "2027          Biochemistry. 2006 May 30;45(21):6724-32.  16716083   \n",
       "2028            Biophys J. 2011 May 18;100(10):2504-12.  21575585   \n",
       "2029          J Biol Chem. 2002 May 24;277(21):19213-9.  11893734   \n",
       "2030  Biochem Biophys Res Commun. 1988 Oct 31;156(2)...   3142462   \n",
       "\n",
       "      Source (Waltz-DB,CPAD,AmyLoad,Waltz)  \n",
       "0                                     CPAD  \n",
       "1                                     CPAD  \n",
       "2                                     CPAD  \n",
       "3                                     CPAD  \n",
       "4                                  AmyLoad  \n",
       "...                                    ...  \n",
       "2026                                  CPAD  \n",
       "2027                                  CPAD  \n",
       "2028                                  CPAD  \n",
       "2029                               AmyLoad  \n",
       "2030                               AmyLoad  \n",
       "\n",
       "[2031 rows x 27 columns]"
      ],
      "text/html": [
       "<div>\n",
       "<style scoped>\n",
       "    .dataframe tbody tr th:only-of-type {\n",
       "        vertical-align: middle;\n",
       "    }\n",
       "\n",
       "    .dataframe tbody tr th {\n",
       "        vertical-align: top;\n",
       "    }\n",
       "\n",
       "    .dataframe thead th {\n",
       "        text-align: right;\n",
       "    }\n",
       "</style>\n",
       "<table border=\"1\" class=\"dataframe\">\n",
       "  <thead>\n",
       "    <tr style=\"text-align: right;\">\n",
       "      <th></th>\n",
       "      <th>Entry</th>\n",
       "      <th>Peptide</th>\n",
       "      <th>Length</th>\n",
       "      <th>Classification</th>\n",
       "      <th>Uniprot Entry Name</th>\n",
       "      <th>Uniprot ID</th>\n",
       "      <th>Protein Name</th>\n",
       "      <th>Position</th>\n",
       "      <th>% Helix (PASTA 2.0)</th>\n",
       "      <th>% Beta Strand (PASTA 2.0)</th>\n",
       "      <th>...</th>\n",
       "      <th>Tango</th>\n",
       "      <th>% Disorder (PASTA 2.0)</th>\n",
       "      <th>Best Energy Score (PASTA 2.0)</th>\n",
       "      <th>Aggregate Orientation (PASTA 2.0)</th>\n",
       "      <th>Mutant</th>\n",
       "      <th>Protein Sequence</th>\n",
       "      <th>Amyloid Structure</th>\n",
       "      <th>Reference</th>\n",
       "      <th>PMID</th>\n",
       "      <th>Source (Waltz-DB,CPAD,AmyLoad,Waltz)</th>\n",
       "    </tr>\n",
       "  </thead>\n",
       "  <tbody>\n",
       "    <tr>\n",
       "      <th>0</th>\n",
       "      <td>P-0001</td>\n",
       "      <td>GYE</td>\n",
       "      <td>3</td>\n",
       "      <td>Amyloid</td>\n",
       "      <td>A4_HUMAN</td>\n",
       "      <td>P05067</td>\n",
       "      <td>Amyloid-beta precursor protein (APP)</td>\n",
       "      <td>680-682</td>\n",
       "      <td>0.000000</td>\n",
       "      <td>0.000000</td>\n",
       "      <td>...</td>\n",
       "      <td>0.00</td>\n",
       "      <td>100.000000</td>\n",
       "      <td>10000.000000</td>\n",
       "      <td>Antiparallel</td>\n",
       "      <td>No</td>\n",
       "      <td>MLPGLALLLLAAWTARALEVPTDGNAGLLAEPQIAMFCGRLNMHMN...</td>\n",
       "      <td>No structures</td>\n",
       "      <td>Org Lett. 2008 Jul 3;10(13):2625-8.</td>\n",
       "      <td>18529009</td>\n",
       "      <td>CPAD</td>\n",
       "    </tr>\n",
       "    <tr>\n",
       "      <th>1</th>\n",
       "      <td>P-0002</td>\n",
       "      <td>KFFE</td>\n",
       "      <td>4</td>\n",
       "      <td>Amyloid</td>\n",
       "      <td>NaN</td>\n",
       "      <td>NaN</td>\n",
       "      <td>NaN</td>\n",
       "      <td>NaN</td>\n",
       "      <td>0.000000</td>\n",
       "      <td>0.000000</td>\n",
       "      <td>...</td>\n",
       "      <td>0.00</td>\n",
       "      <td>100.000000</td>\n",
       "      <td>-2.222498</td>\n",
       "      <td>Antiparallel</td>\n",
       "      <td>NaN</td>\n",
       "      <td>NaN</td>\n",
       "      <td>No structures</td>\n",
       "      <td>J Biol Chem. 2002 Nov 8;277(45):43243-6.</td>\n",
       "      <td>12215440</td>\n",
       "      <td>CPAD</td>\n",
       "    </tr>\n",
       "    <tr>\n",
       "      <th>2</th>\n",
       "      <td>P-0003</td>\n",
       "      <td>KVVE</td>\n",
       "      <td>4</td>\n",
       "      <td>Amyloid</td>\n",
       "      <td>NaN</td>\n",
       "      <td>NaN</td>\n",
       "      <td>NaN</td>\n",
       "      <td>NaN</td>\n",
       "      <td>0.000000</td>\n",
       "      <td>0.000000</td>\n",
       "      <td>...</td>\n",
       "      <td>0.00</td>\n",
       "      <td>100.000000</td>\n",
       "      <td>-2.838181</td>\n",
       "      <td>Antiparallel</td>\n",
       "      <td>NaN</td>\n",
       "      <td>NaN</td>\n",
       "      <td>No structures</td>\n",
       "      <td>J Biol Chem. 2002 Nov 8;277(45):43243-6.</td>\n",
       "      <td>12215440</td>\n",
       "      <td>CPAD</td>\n",
       "    </tr>\n",
       "    <tr>\n",
       "      <th>3</th>\n",
       "      <td>P-0004</td>\n",
       "      <td>NNQQ</td>\n",
       "      <td>4</td>\n",
       "      <td>Amyloid</td>\n",
       "      <td>ERF3_YEAST</td>\n",
       "      <td>P05453</td>\n",
       "      <td>Eukaryotic peptide chain release factor GTP-bi...</td>\n",
       "      <td>8-11</td>\n",
       "      <td>0.000000</td>\n",
       "      <td>0.000000</td>\n",
       "      <td>...</td>\n",
       "      <td>0.00</td>\n",
       "      <td>100.000000</td>\n",
       "      <td>1.802299</td>\n",
       "      <td>Antiparallel</td>\n",
       "      <td>NaN</td>\n",
       "      <td>MSDSNQGNNQQNYQQYSQNGNQQQGNNRYQGYQAYNAQAQPAGGYY...</td>\n",
       "      <td>No structures</td>\n",
       "      <td>Nature. 2007 May 24;447(7143):453-7.</td>\n",
       "      <td>17468747</td>\n",
       "      <td>CPAD</td>\n",
       "    </tr>\n",
       "    <tr>\n",
       "      <th>4</th>\n",
       "      <td>P-0005</td>\n",
       "      <td>VKSE</td>\n",
       "      <td>4</td>\n",
       "      <td>Non-amyloid</td>\n",
       "      <td>TAU_HUMAN</td>\n",
       "      <td>P10636</td>\n",
       "      <td>Microtubule-associated protein tau (PHF-tau)</td>\n",
       "      <td>NaN</td>\n",
       "      <td>0.000000</td>\n",
       "      <td>0.000000</td>\n",
       "      <td>...</td>\n",
       "      <td>0.00</td>\n",
       "      <td>100.000000</td>\n",
       "      <td>0.586433</td>\n",
       "      <td>Antiparallel</td>\n",
       "      <td>NaN</td>\n",
       "      <td>NaN</td>\n",
       "      <td>No structures</td>\n",
       "      <td>Proc Natl Acad Sci U S A. 2000 May 9;97(10):51...</td>\n",
       "      <td>10805776</td>\n",
       "      <td>AmyLoad</td>\n",
       "    </tr>\n",
       "    <tr>\n",
       "      <th>...</th>\n",
       "      <td>...</td>\n",
       "      <td>...</td>\n",
       "      <td>...</td>\n",
       "      <td>...</td>\n",
       "      <td>...</td>\n",
       "      <td>...</td>\n",
       "      <td>...</td>\n",
       "      <td>...</td>\n",
       "      <td>...</td>\n",
       "      <td>...</td>\n",
       "      <td>...</td>\n",
       "      <td>...</td>\n",
       "      <td>...</td>\n",
       "      <td>...</td>\n",
       "      <td>...</td>\n",
       "      <td>...</td>\n",
       "      <td>...</td>\n",
       "      <td>...</td>\n",
       "      <td>...</td>\n",
       "      <td>...</td>\n",
       "      <td>...</td>\n",
       "    </tr>\n",
       "    <tr>\n",
       "      <th>2026</th>\n",
       "      <td>P-2027</td>\n",
       "      <td>GQGGGTHNQWNKPSKPKTNMKHMAGAAAAGAVVGGLGGYMLGSAMS...</td>\n",
       "      <td>56</td>\n",
       "      <td>Amyloid</td>\n",
       "      <td>PRIO_SHA</td>\n",
       "      <td>NaN</td>\n",
       "      <td>NaN</td>\n",
       "      <td>NaN</td>\n",
       "      <td>44.642857</td>\n",
       "      <td>0.000000</td>\n",
       "      <td>...</td>\n",
       "      <td>15.38</td>\n",
       "      <td>41.071429</td>\n",
       "      <td>-2.172841</td>\n",
       "      <td>Parallel</td>\n",
       "      <td>NaN</td>\n",
       "      <td>NaN</td>\n",
       "      <td>No structures</td>\n",
       "      <td>Nature. 2007 May 24;447(7143):453-7.</td>\n",
       "      <td>17468747</td>\n",
       "      <td>CPAD</td>\n",
       "    </tr>\n",
       "    <tr>\n",
       "      <th>2027</th>\n",
       "      <td>P-2028</td>\n",
       "      <td>GQPHGGGWGQGGGTHSQWNKPSKPKTNMKHMAGAAAAGAVVGGLGG...</td>\n",
       "      <td>65</td>\n",
       "      <td>Amyloid</td>\n",
       "      <td>PRIO_HUMAN</td>\n",
       "      <td>P04156</td>\n",
       "      <td>Major prion protein (PrP)</td>\n",
       "      <td>82-146</td>\n",
       "      <td>30.769231</td>\n",
       "      <td>7.692308</td>\n",
       "      <td>...</td>\n",
       "      <td>16.50</td>\n",
       "      <td>63.076923</td>\n",
       "      <td>-4.751561</td>\n",
       "      <td>Parallel</td>\n",
       "      <td>No</td>\n",
       "      <td>MANLGCWMLVLFVATWSDLGLCKKRPKPGGWNTGGSRYPGQGSPGG...</td>\n",
       "      <td>No structures</td>\n",
       "      <td>Biochemistry. 2006 May 30;45(21):6724-32.</td>\n",
       "      <td>16716083</td>\n",
       "      <td>CPAD</td>\n",
       "    </tr>\n",
       "    <tr>\n",
       "      <th>2028</th>\n",
       "      <td>P-2029</td>\n",
       "      <td>MATLEKLMKAFESLKSFQQQQQQQQQQQQQQQQQQQQQQQQQQQQQ...</td>\n",
       "      <td>71</td>\n",
       "      <td>Amyloid</td>\n",
       "      <td>NaN</td>\n",
       "      <td>NaN</td>\n",
       "      <td>NaN</td>\n",
       "      <td>NaN</td>\n",
       "      <td>77.464789</td>\n",
       "      <td>0.000000</td>\n",
       "      <td>...</td>\n",
       "      <td>0.00</td>\n",
       "      <td>100.000000</td>\n",
       "      <td>-1.123618</td>\n",
       "      <td>Antiparallel</td>\n",
       "      <td>NaN</td>\n",
       "      <td>NaN</td>\n",
       "      <td>No structures</td>\n",
       "      <td>Biophys J. 2011 May 18;100(10):2504-12.</td>\n",
       "      <td>21575585</td>\n",
       "      <td>CPAD</td>\n",
       "    </tr>\n",
       "    <tr>\n",
       "      <th>2029</th>\n",
       "      <td>P-2030</td>\n",
       "      <td>GKTKEGVLYVGSKTKEGVVHGVATVAEKTKEQVTNVGGAVVTGVTA...</td>\n",
       "      <td>79</td>\n",
       "      <td>Amyloid</td>\n",
       "      <td>SYUA_HUMAN</td>\n",
       "      <td>P37840</td>\n",
       "      <td>Alpha-synuclein</td>\n",
       "      <td>31-109</td>\n",
       "      <td>2.531646</td>\n",
       "      <td>48.101266</td>\n",
       "      <td>...</td>\n",
       "      <td>806.49</td>\n",
       "      <td>22.784810</td>\n",
       "      <td>-7.239327</td>\n",
       "      <td>Parallel</td>\n",
       "      <td>No</td>\n",
       "      <td>MDVFMKGLSKAKEGVVAAAEKTKQGVAEAAGKTKEGVLYVGSKTKE...</td>\n",
       "      <td>No structures</td>\n",
       "      <td>J Biol Chem. 2002 May 24;277(21):19213-9.</td>\n",
       "      <td>11893734</td>\n",
       "      <td>AmyLoad</td>\n",
       "    </tr>\n",
       "    <tr>\n",
       "      <th>2030</th>\n",
       "      <td>P-2031</td>\n",
       "      <td>DEPPQSPWDRVKDLATVYVDVLKDSRRDYVSQFEGSALGKQLNLKL...</td>\n",
       "      <td>83</td>\n",
       "      <td>Amyloid</td>\n",
       "      <td>APOC2_HUMAN</td>\n",
       "      <td>P02655</td>\n",
       "      <td>Apolipoprotein C-II (ApoC-II)</td>\n",
       "      <td>NaN</td>\n",
       "      <td>85.542169</td>\n",
       "      <td>0.000000</td>\n",
       "      <td>...</td>\n",
       "      <td>349.11</td>\n",
       "      <td>20.481928</td>\n",
       "      <td>-6.052908</td>\n",
       "      <td>Parallel</td>\n",
       "      <td>NaN</td>\n",
       "      <td>MGTRLLPALFLVLLVLGFEVQGTQQPQQDEMPSPTFLTQVKESLSS...</td>\n",
       "      <td>No structures</td>\n",
       "      <td>Biochem Biophys Res Commun. 1988 Oct 31;156(2)...</td>\n",
       "      <td>3142462</td>\n",
       "      <td>AmyLoad</td>\n",
       "    </tr>\n",
       "  </tbody>\n",
       "</table>\n",
       "<p>2031 rows × 27 columns</p>\n",
       "</div>"
      ]
     },
     "execution_count": 3,
     "metadata": {},
     "output_type": "execute_result"
    }
   ],
   "execution_count": 3
  },
  {
   "metadata": {
    "ExecuteTime": {
     "end_time": "2024-12-12T12:10:18.318115Z",
     "start_time": "2024-12-12T12:10:18.303502Z"
    }
   },
   "cell_type": "code",
   "source": "df['Classification'].value_counts()",
   "id": "e60e1b95323742cd",
   "outputs": [
    {
     "data": {
      "text/plain": [
       "Classification\n",
       "Non-amyloid    1055\n",
       "Amyloid         716\n",
       "amyloid         201\n",
       "non-amyloid      59\n",
       "Name: count, dtype: int64"
      ]
     },
     "execution_count": 4,
     "metadata": {},
     "output_type": "execute_result"
    }
   ],
   "execution_count": 4
  },
  {
   "metadata": {
    "ExecuteTime": {
     "end_time": "2024-12-12T12:10:18.400260Z",
     "start_time": "2024-12-12T12:10:18.385622Z"
    }
   },
   "cell_type": "code",
   "source": [
    "sequences = df['Peptide'].values\n",
    "\n",
    "text2label = {\n",
    "    'Amyloid': 1,\n",
    "    'amyloid': 1,\n",
    "    'Non-amyloid': 0,\n",
    "    'non-amyloid': 0\n",
    "}\n",
    "labels = df['Classification'].apply(lambda x: text2label[x]).values\n",
    "entries = df['Entry'].values\n",
    "\n",
    "is_amyloid = {\n",
    "    1: 'amyloid',\n",
    "    0: 'non-amyloid'\n",
    "}\n",
    "headers = [f'{entry}, {is_amyloid[label]}, label={label}' for entry, label in zip(entries, labels)]"
   ],
   "id": "7b571357c795f175",
   "outputs": [],
   "execution_count": 5
  },
  {
   "metadata": {
    "ExecuteTime": {
     "end_time": "2024-12-12T12:10:18.488674Z",
     "start_time": "2024-12-12T12:10:18.434219Z"
    }
   },
   "cell_type": "code",
   "source": [
    "path = './data/CPAD2/CPAD2.fasta'\n",
    "write_fasta(path, sequences, headers)"
   ],
   "id": "ab78863424c76f6e",
   "outputs": [],
   "execution_count": 6
  },
  {
   "metadata": {
    "ExecuteTime": {
     "end_time": "2024-12-12T12:10:18.506010Z",
     "start_time": "2024-12-12T12:10:18.502712Z"
    }
   },
   "cell_type": "code",
   "source": "",
   "id": "5a79ce24a17155c1",
   "outputs": [],
   "execution_count": null
  },
  {
   "metadata": {
    "ExecuteTime": {
     "end_time": "2024-12-12T12:10:18.581258Z",
     "start_time": "2024-12-12T12:10:18.556792Z"
    }
   },
   "cell_type": "code",
   "source": [
    "CPAD2_df = df[['Peptide', 'Classification']].copy()\n",
    "CPAD2_df['Classification'] = CPAD2_df['Classification'].apply(lambda x: text2label[x])\n",
    "CPAD2_df.columns = ['peptide', 'label']\n",
    "CPAD2_df"
   ],
   "id": "56e5544c01035168",
   "outputs": [
    {
     "data": {
      "text/plain": [
       "                                                peptide  label\n",
       "0                                                   GYE      1\n",
       "1                                                  KFFE      1\n",
       "2                                                  KVVE      1\n",
       "3                                                  NNQQ      1\n",
       "4                                                  VKSE      0\n",
       "...                                                 ...    ...\n",
       "2026  GQGGGTHNQWNKPSKPKTNMKHMAGAAAAGAVVGGLGGYMLGSAMS...      1\n",
       "2027  GQPHGGGWGQGGGTHSQWNKPSKPKTNMKHMAGAAAAGAVVGGLGG...      1\n",
       "2028  MATLEKLMKAFESLKSFQQQQQQQQQQQQQQQQQQQQQQQQQQQQQ...      1\n",
       "2029  GKTKEGVLYVGSKTKEGVVHGVATVAEKTKEQVTNVGGAVVTGVTA...      1\n",
       "2030  DEPPQSPWDRVKDLATVYVDVLKDSRRDYVSQFEGSALGKQLNLKL...      1\n",
       "\n",
       "[2031 rows x 2 columns]"
      ],
      "text/html": [
       "<div>\n",
       "<style scoped>\n",
       "    .dataframe tbody tr th:only-of-type {\n",
       "        vertical-align: middle;\n",
       "    }\n",
       "\n",
       "    .dataframe tbody tr th {\n",
       "        vertical-align: top;\n",
       "    }\n",
       "\n",
       "    .dataframe thead th {\n",
       "        text-align: right;\n",
       "    }\n",
       "</style>\n",
       "<table border=\"1\" class=\"dataframe\">\n",
       "  <thead>\n",
       "    <tr style=\"text-align: right;\">\n",
       "      <th></th>\n",
       "      <th>peptide</th>\n",
       "      <th>label</th>\n",
       "    </tr>\n",
       "  </thead>\n",
       "  <tbody>\n",
       "    <tr>\n",
       "      <th>0</th>\n",
       "      <td>GYE</td>\n",
       "      <td>1</td>\n",
       "    </tr>\n",
       "    <tr>\n",
       "      <th>1</th>\n",
       "      <td>KFFE</td>\n",
       "      <td>1</td>\n",
       "    </tr>\n",
       "    <tr>\n",
       "      <th>2</th>\n",
       "      <td>KVVE</td>\n",
       "      <td>1</td>\n",
       "    </tr>\n",
       "    <tr>\n",
       "      <th>3</th>\n",
       "      <td>NNQQ</td>\n",
       "      <td>1</td>\n",
       "    </tr>\n",
       "    <tr>\n",
       "      <th>4</th>\n",
       "      <td>VKSE</td>\n",
       "      <td>0</td>\n",
       "    </tr>\n",
       "    <tr>\n",
       "      <th>...</th>\n",
       "      <td>...</td>\n",
       "      <td>...</td>\n",
       "    </tr>\n",
       "    <tr>\n",
       "      <th>2026</th>\n",
       "      <td>GQGGGTHNQWNKPSKPKTNMKHMAGAAAAGAVVGGLGGYMLGSAMS...</td>\n",
       "      <td>1</td>\n",
       "    </tr>\n",
       "    <tr>\n",
       "      <th>2027</th>\n",
       "      <td>GQPHGGGWGQGGGTHSQWNKPSKPKTNMKHMAGAAAAGAVVGGLGG...</td>\n",
       "      <td>1</td>\n",
       "    </tr>\n",
       "    <tr>\n",
       "      <th>2028</th>\n",
       "      <td>MATLEKLMKAFESLKSFQQQQQQQQQQQQQQQQQQQQQQQQQQQQQ...</td>\n",
       "      <td>1</td>\n",
       "    </tr>\n",
       "    <tr>\n",
       "      <th>2029</th>\n",
       "      <td>GKTKEGVLYVGSKTKEGVVHGVATVAEKTKEQVTNVGGAVVTGVTA...</td>\n",
       "      <td>1</td>\n",
       "    </tr>\n",
       "    <tr>\n",
       "      <th>2030</th>\n",
       "      <td>DEPPQSPWDRVKDLATVYVDVLKDSRRDYVSQFEGSALGKQLNLKL...</td>\n",
       "      <td>1</td>\n",
       "    </tr>\n",
       "  </tbody>\n",
       "</table>\n",
       "<p>2031 rows × 2 columns</p>\n",
       "</div>"
      ]
     },
     "execution_count": 7,
     "metadata": {},
     "output_type": "execute_result"
    }
   ],
   "execution_count": 7
  },
  {
   "metadata": {
    "ExecuteTime": {
     "end_time": "2024-12-12T12:10:18.661995Z",
     "start_time": "2024-12-12T12:10:18.630976Z"
    }
   },
   "cell_type": "code",
   "source": [
    "pred_df = pd.read_csv('./APNet_CPAD2_results.csv')\n",
    "pred_df['pred'] = pred_df['probability'].apply(lambda x: 1 if x > 0.5 else 0)\n",
    "pred_df = pred_df.drop(columns=['label'])\n",
    "pred_df"
   ],
   "id": "36b2b0ac07121cf9",
   "outputs": [
    {
     "data": {
      "text/plain": [
       "                                                peptide  probability  pred\n",
       "0                                                   GYE     0.329107     0\n",
       "1                                                  KFFE     0.182013     0\n",
       "2                                                  KVVE     0.519902     1\n",
       "3                                                  NNQQ     0.222988     0\n",
       "4                                                  VKSE     0.134442     0\n",
       "...                                                 ...          ...   ...\n",
       "2026  GQGGGTHNQWNKPSKPKTNMKHMAGAAAAGAVVGGLGGYMLGSAMS...     0.075622     0\n",
       "2027  GQPHGGGWGQGGGTHSQWNKPSKPKTNMKHMAGAAAAGAVVGGLGG...     0.055730     0\n",
       "2028  MATLEKLMKAFESLKSFQQQQQQQQQQQQQQQQQQQQQQQQQQQQQ...     0.137469     0\n",
       "2029  GKTKEGVLYVGSKTKEGVVHGVATVAEKTKEQVTNVGGAVVTGVTA...     0.203601     0\n",
       "2030  DEPPQSPWDRVKDLATVYVDVLKDSRRDYVSQFEGSALGKQLNLKL...     0.025269     0\n",
       "\n",
       "[2031 rows x 3 columns]"
      ],
      "text/html": [
       "<div>\n",
       "<style scoped>\n",
       "    .dataframe tbody tr th:only-of-type {\n",
       "        vertical-align: middle;\n",
       "    }\n",
       "\n",
       "    .dataframe tbody tr th {\n",
       "        vertical-align: top;\n",
       "    }\n",
       "\n",
       "    .dataframe thead th {\n",
       "        text-align: right;\n",
       "    }\n",
       "</style>\n",
       "<table border=\"1\" class=\"dataframe\">\n",
       "  <thead>\n",
       "    <tr style=\"text-align: right;\">\n",
       "      <th></th>\n",
       "      <th>peptide</th>\n",
       "      <th>probability</th>\n",
       "      <th>pred</th>\n",
       "    </tr>\n",
       "  </thead>\n",
       "  <tbody>\n",
       "    <tr>\n",
       "      <th>0</th>\n",
       "      <td>GYE</td>\n",
       "      <td>0.329107</td>\n",
       "      <td>0</td>\n",
       "    </tr>\n",
       "    <tr>\n",
       "      <th>1</th>\n",
       "      <td>KFFE</td>\n",
       "      <td>0.182013</td>\n",
       "      <td>0</td>\n",
       "    </tr>\n",
       "    <tr>\n",
       "      <th>2</th>\n",
       "      <td>KVVE</td>\n",
       "      <td>0.519902</td>\n",
       "      <td>1</td>\n",
       "    </tr>\n",
       "    <tr>\n",
       "      <th>3</th>\n",
       "      <td>NNQQ</td>\n",
       "      <td>0.222988</td>\n",
       "      <td>0</td>\n",
       "    </tr>\n",
       "    <tr>\n",
       "      <th>4</th>\n",
       "      <td>VKSE</td>\n",
       "      <td>0.134442</td>\n",
       "      <td>0</td>\n",
       "    </tr>\n",
       "    <tr>\n",
       "      <th>...</th>\n",
       "      <td>...</td>\n",
       "      <td>...</td>\n",
       "      <td>...</td>\n",
       "    </tr>\n",
       "    <tr>\n",
       "      <th>2026</th>\n",
       "      <td>GQGGGTHNQWNKPSKPKTNMKHMAGAAAAGAVVGGLGGYMLGSAMS...</td>\n",
       "      <td>0.075622</td>\n",
       "      <td>0</td>\n",
       "    </tr>\n",
       "    <tr>\n",
       "      <th>2027</th>\n",
       "      <td>GQPHGGGWGQGGGTHSQWNKPSKPKTNMKHMAGAAAAGAVVGGLGG...</td>\n",
       "      <td>0.055730</td>\n",
       "      <td>0</td>\n",
       "    </tr>\n",
       "    <tr>\n",
       "      <th>2028</th>\n",
       "      <td>MATLEKLMKAFESLKSFQQQQQQQQQQQQQQQQQQQQQQQQQQQQQ...</td>\n",
       "      <td>0.137469</td>\n",
       "      <td>0</td>\n",
       "    </tr>\n",
       "    <tr>\n",
       "      <th>2029</th>\n",
       "      <td>GKTKEGVLYVGSKTKEGVVHGVATVAEKTKEQVTNVGGAVVTGVTA...</td>\n",
       "      <td>0.203601</td>\n",
       "      <td>0</td>\n",
       "    </tr>\n",
       "    <tr>\n",
       "      <th>2030</th>\n",
       "      <td>DEPPQSPWDRVKDLATVYVDVLKDSRRDYVSQFEGSALGKQLNLKL...</td>\n",
       "      <td>0.025269</td>\n",
       "      <td>0</td>\n",
       "    </tr>\n",
       "  </tbody>\n",
       "</table>\n",
       "<p>2031 rows × 3 columns</p>\n",
       "</div>"
      ]
     },
     "execution_count": 8,
     "metadata": {},
     "output_type": "execute_result"
    }
   ],
   "execution_count": 8
  },
  {
   "metadata": {
    "ExecuteTime": {
     "end_time": "2024-12-12T12:10:18.744986Z",
     "start_time": "2024-12-12T12:10:18.718855Z"
    }
   },
   "cell_type": "code",
   "source": [
    "merge_df = pd.merge(CPAD2_df, pred_df, on='peptide', how='inner')\n",
    "merge_df['length'] = merge_df['peptide'].apply(len)\n",
    "merge_df"
   ],
   "id": "e490b4ca74c83870",
   "outputs": [
    {
     "data": {
      "text/plain": [
       "                                                peptide  label  probability  \\\n",
       "0                                                   GYE      1     0.329107   \n",
       "1                                                  KFFE      1     0.182013   \n",
       "2                                                  KVVE      1     0.519902   \n",
       "3                                                  NNQQ      1     0.222988   \n",
       "4                                                  VKSE      0     0.134442   \n",
       "...                                                 ...    ...          ...   \n",
       "2025  GQGGGTHNQWNKPSKPKTNMKHMAGAAAAGAVVGGLGGYMLGSAMS...      1     0.075622   \n",
       "2026  GQPHGGGWGQGGGTHSQWNKPSKPKTNMKHMAGAAAAGAVVGGLGG...      1     0.055730   \n",
       "2027  MATLEKLMKAFESLKSFQQQQQQQQQQQQQQQQQQQQQQQQQQQQQ...      1     0.137469   \n",
       "2028  GKTKEGVLYVGSKTKEGVVHGVATVAEKTKEQVTNVGGAVVTGVTA...      1     0.203601   \n",
       "2029  DEPPQSPWDRVKDLATVYVDVLKDSRRDYVSQFEGSALGKQLNLKL...      1     0.025269   \n",
       "\n",
       "      pred  length  \n",
       "0        0       3  \n",
       "1        0       4  \n",
       "2        1       4  \n",
       "3        0       4  \n",
       "4        0       4  \n",
       "...    ...     ...  \n",
       "2025     0      56  \n",
       "2026     0      65  \n",
       "2027     0      71  \n",
       "2028     0      79  \n",
       "2029     0      83  \n",
       "\n",
       "[2030 rows x 5 columns]"
      ],
      "text/html": [
       "<div>\n",
       "<style scoped>\n",
       "    .dataframe tbody tr th:only-of-type {\n",
       "        vertical-align: middle;\n",
       "    }\n",
       "\n",
       "    .dataframe tbody tr th {\n",
       "        vertical-align: top;\n",
       "    }\n",
       "\n",
       "    .dataframe thead th {\n",
       "        text-align: right;\n",
       "    }\n",
       "</style>\n",
       "<table border=\"1\" class=\"dataframe\">\n",
       "  <thead>\n",
       "    <tr style=\"text-align: right;\">\n",
       "      <th></th>\n",
       "      <th>peptide</th>\n",
       "      <th>label</th>\n",
       "      <th>probability</th>\n",
       "      <th>pred</th>\n",
       "      <th>length</th>\n",
       "    </tr>\n",
       "  </thead>\n",
       "  <tbody>\n",
       "    <tr>\n",
       "      <th>0</th>\n",
       "      <td>GYE</td>\n",
       "      <td>1</td>\n",
       "      <td>0.329107</td>\n",
       "      <td>0</td>\n",
       "      <td>3</td>\n",
       "    </tr>\n",
       "    <tr>\n",
       "      <th>1</th>\n",
       "      <td>KFFE</td>\n",
       "      <td>1</td>\n",
       "      <td>0.182013</td>\n",
       "      <td>0</td>\n",
       "      <td>4</td>\n",
       "    </tr>\n",
       "    <tr>\n",
       "      <th>2</th>\n",
       "      <td>KVVE</td>\n",
       "      <td>1</td>\n",
       "      <td>0.519902</td>\n",
       "      <td>1</td>\n",
       "      <td>4</td>\n",
       "    </tr>\n",
       "    <tr>\n",
       "      <th>3</th>\n",
       "      <td>NNQQ</td>\n",
       "      <td>1</td>\n",
       "      <td>0.222988</td>\n",
       "      <td>0</td>\n",
       "      <td>4</td>\n",
       "    </tr>\n",
       "    <tr>\n",
       "      <th>4</th>\n",
       "      <td>VKSE</td>\n",
       "      <td>0</td>\n",
       "      <td>0.134442</td>\n",
       "      <td>0</td>\n",
       "      <td>4</td>\n",
       "    </tr>\n",
       "    <tr>\n",
       "      <th>...</th>\n",
       "      <td>...</td>\n",
       "      <td>...</td>\n",
       "      <td>...</td>\n",
       "      <td>...</td>\n",
       "      <td>...</td>\n",
       "    </tr>\n",
       "    <tr>\n",
       "      <th>2025</th>\n",
       "      <td>GQGGGTHNQWNKPSKPKTNMKHMAGAAAAGAVVGGLGGYMLGSAMS...</td>\n",
       "      <td>1</td>\n",
       "      <td>0.075622</td>\n",
       "      <td>0</td>\n",
       "      <td>56</td>\n",
       "    </tr>\n",
       "    <tr>\n",
       "      <th>2026</th>\n",
       "      <td>GQPHGGGWGQGGGTHSQWNKPSKPKTNMKHMAGAAAAGAVVGGLGG...</td>\n",
       "      <td>1</td>\n",
       "      <td>0.055730</td>\n",
       "      <td>0</td>\n",
       "      <td>65</td>\n",
       "    </tr>\n",
       "    <tr>\n",
       "      <th>2027</th>\n",
       "      <td>MATLEKLMKAFESLKSFQQQQQQQQQQQQQQQQQQQQQQQQQQQQQ...</td>\n",
       "      <td>1</td>\n",
       "      <td>0.137469</td>\n",
       "      <td>0</td>\n",
       "      <td>71</td>\n",
       "    </tr>\n",
       "    <tr>\n",
       "      <th>2028</th>\n",
       "      <td>GKTKEGVLYVGSKTKEGVVHGVATVAEKTKEQVTNVGGAVVTGVTA...</td>\n",
       "      <td>1</td>\n",
       "      <td>0.203601</td>\n",
       "      <td>0</td>\n",
       "      <td>79</td>\n",
       "    </tr>\n",
       "    <tr>\n",
       "      <th>2029</th>\n",
       "      <td>DEPPQSPWDRVKDLATVYVDVLKDSRRDYVSQFEGSALGKQLNLKL...</td>\n",
       "      <td>1</td>\n",
       "      <td>0.025269</td>\n",
       "      <td>0</td>\n",
       "      <td>83</td>\n",
       "    </tr>\n",
       "  </tbody>\n",
       "</table>\n",
       "<p>2030 rows × 5 columns</p>\n",
       "</div>"
      ]
     },
     "execution_count": 9,
     "metadata": {},
     "output_type": "execute_result"
    }
   ],
   "execution_count": 9
  },
  {
   "metadata": {
    "ExecuteTime": {
     "end_time": "2024-12-12T12:10:19.413327Z",
     "start_time": "2024-12-12T12:10:18.841996Z"
    }
   },
   "cell_type": "code",
   "source": "from sklearn.metrics import roc_auc_score",
   "id": "54701eee9b430a5e",
   "outputs": [],
   "execution_count": 10
  },
  {
   "metadata": {
    "ExecuteTime": {
     "end_time": "2024-12-12T12:10:19.478991Z",
     "start_time": "2024-12-12T12:10:19.453992Z"
    }
   },
   "cell_type": "code",
   "source": [
    "temp_df = merge_df[merge_df['length'] == 5]\n",
    "pred = temp_df['pred'].values\n",
    "label = temp_df['label'].values\n",
    "auc = roc_auc_score(label, pred)\n",
    "auc"
   ],
   "id": "3bd9562ef983411e",
   "outputs": [
    {
     "data": {
      "text/plain": [
       "np.float64(0.7083333333333334)"
      ]
     },
     "execution_count": 11,
     "metadata": {},
     "output_type": "execute_result"
    }
   ],
   "execution_count": 11
  },
  {
   "metadata": {
    "ExecuteTime": {
     "end_time": "2024-12-12T12:10:19.630380Z",
     "start_time": "2024-12-12T12:10:19.605561Z"
    }
   },
   "cell_type": "code",
   "source": [
    "temp_df = merge_df[merge_df['length'] == 6]\n",
    "pred = temp_df['pred'].values\n",
    "label = temp_df['label'].values\n",
    "auc = roc_auc_score(label, pred)\n",
    "auc"
   ],
   "id": "4d3b2f0294f6186c",
   "outputs": [
    {
     "data": {
      "text/plain": [
       "np.float64(0.8879045799316774)"
      ]
     },
     "execution_count": 12,
     "metadata": {},
     "output_type": "execute_result"
    }
   ],
   "execution_count": 12
  },
  {
   "metadata": {
    "ExecuteTime": {
     "end_time": "2024-12-12T12:10:19.788666Z",
     "start_time": "2024-12-12T12:10:19.759550Z"
    }
   },
   "cell_type": "code",
   "source": [
    "temp_df = merge_df[merge_df['length'] == 7]\n",
    "pred = temp_df['pred'].values\n",
    "label = temp_df['label'].values\n",
    "auc = roc_auc_score(label, pred)\n",
    "auc"
   ],
   "id": "11004a533cde366d",
   "outputs": [
    {
     "data": {
      "text/plain": [
       "np.float64(0.6960132890365449)"
      ]
     },
     "execution_count": 13,
     "metadata": {},
     "output_type": "execute_result"
    }
   ],
   "execution_count": 13
  },
  {
   "metadata": {
    "ExecuteTime": {
     "end_time": "2024-12-12T12:10:19.901790Z",
     "start_time": "2024-12-12T12:10:19.880031Z"
    }
   },
   "cell_type": "code",
   "source": [
    "temp_df = merge_df[merge_df['length'] == 8]\n",
    "pred = temp_df['pred'].values\n",
    "label = temp_df['label'].values\n",
    "auc = roc_auc_score(label, pred)\n",
    "auc"
   ],
   "id": "7c761f54eaf6c685",
   "outputs": [
    {
     "data": {
      "text/plain": [
       "np.float64(0.7403846153846154)"
      ]
     },
     "execution_count": 14,
     "metadata": {},
     "output_type": "execute_result"
    }
   ],
   "execution_count": 14
  },
  {
   "metadata": {
    "ExecuteTime": {
     "end_time": "2024-12-12T12:10:19.979488Z",
     "start_time": "2024-12-12T12:10:19.957035Z"
    }
   },
   "cell_type": "code",
   "source": [
    "temp_df = merge_df[merge_df['length'] == 9]\n",
    "pred = temp_df['pred'].values\n",
    "label = temp_df['label'].values\n",
    "auc = roc_auc_score(label, pred)\n",
    "auc"
   ],
   "id": "b6aa6fc752f4798",
   "outputs": [
    {
     "data": {
      "text/plain": [
       "np.float64(0.7142857142857143)"
      ]
     },
     "execution_count": 15,
     "metadata": {},
     "output_type": "execute_result"
    }
   ],
   "execution_count": 15
  },
  {
   "metadata": {
    "ExecuteTime": {
     "end_time": "2024-12-12T12:10:20.024784Z",
     "start_time": "2024-12-12T12:10:20.020882Z"
    }
   },
   "cell_type": "code",
   "source": "",
   "id": "ff8d69a2096bb7b8",
   "outputs": [],
   "execution_count": null
  },
  {
   "metadata": {
    "ExecuteTime": {
     "end_time": "2024-12-12T12:10:20.055945Z",
     "start_time": "2024-12-12T12:10:20.052664Z"
    }
   },
   "cell_type": "code",
   "source": "",
   "id": "7877b46cc11839aa",
   "outputs": [],
   "execution_count": null
  }
 ],
 "metadata": {
  "kernelspec": {
   "display_name": "Python [conda env:AggNet]",
   "language": "python",
   "name": "conda-env-AggNet-py"
  },
  "language_info": {
   "codemirror_mode": {
    "name": "ipython",
    "version": 2
   },
   "file_extension": ".py",
   "mimetype": "text/x-python",
   "name": "python",
   "nbconvert_exporter": "python",
   "pygments_lexer": "ipython2",
   "version": "2.7.6"
  }
 },
 "nbformat": 4,
 "nbformat_minor": 5
}
