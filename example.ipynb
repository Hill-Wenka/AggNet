{
 "cells": [
  {
   "metadata": {
    "ExecuteTime": {
     "end_time": "2024-12-12T13:10:20.985552Z",
     "start_time": "2024-12-12T13:10:20.836376Z"
    }
   },
   "cell_type": "code",
   "source": [
    "%load_ext autoreload\n",
    "%autoreload 2\n",
    "# %cd 'python/AggNet'\n",
    "%ls"
   ],
   "id": "d4bc9d15e697290a",
   "outputs": [
    {
     "name": "stdout",
     "output_type": "stream",
     "text": [
      "/home/hew/python/AggNet\n",
      "APNet_CPAD2_results.csv  \u001B[0m\u001B[01;34mcheckpoint\u001B[0m/  \u001B[01;34mdataset\u001B[0m/       install.sh  \u001B[01;34mscript\u001B[0m/\r\n",
      "APNet_results.csv        CPAD2.ipynb  example.ipynb  \u001B[01;34mmodel\u001B[0m/      \u001B[01;34mtemp\u001B[0m/\r\n",
      "APRNet_results.csv       \u001B[01;34mdata\u001B[0m/        \u001B[01;34mfigure\u001B[0m/        README.md   \u001B[01;34mutils\u001B[0m/\r\n"
     ]
    }
   ],
   "execution_count": 1
  },
  {
   "metadata": {
    "ExecuteTime": {
     "end_time": "2024-12-12T13:10:25.793383Z",
     "start_time": "2024-12-12T13:10:21.191356Z"
    }
   },
   "cell_type": "code",
   "source": [
    "import pandas as pd\n",
    "\n",
    "from model.APNet.data_module import DataModule\n",
    "from model.APNet.lightning_module import LightningModule\n",
    "from model.APRNet import APRNet\n",
    "from utils.file import read_fasta\n",
    "from utils.lightning import LitModelInference, merge_batch_prediction"
   ],
   "id": "75600ec69795924",
   "outputs": [
    {
     "name": "stdout",
     "output_type": "stream",
     "text": [
      "==================== add root_path to sys.path ====================\n",
      "root_path: /home/hew/python/AggNet\n",
      "======================================================================================\n"
     ]
    }
   ],
   "execution_count": 2
  },
  {
   "metadata": {
    "ExecuteTime": {
     "end_time": "2024-12-12T13:10:25.809035Z",
     "start_time": "2024-12-12T13:10:25.804121Z"
    }
   },
   "cell_type": "code",
   "source": "",
   "id": "312270b5dac975b1",
   "outputs": [],
   "execution_count": null
  },
  {
   "metadata": {
    "ExecuteTime": {
     "end_time": "2024-12-12T13:10:26.040461Z",
     "start_time": "2024-12-12T13:10:26.036407Z"
    }
   },
   "cell_type": "code",
   "source": "",
   "id": "f93211a6ef3c2e4a",
   "outputs": [],
   "execution_count": null
  },
  {
   "metadata": {},
   "cell_type": "markdown",
   "source": "# Amyloid Peptide Prediction",
   "id": "17712142f3896757"
  },
  {
   "metadata": {},
   "cell_type": "markdown",
   "source": "## load data",
   "id": "a122cd3ac31dbb22"
  },
  {
   "metadata": {
    "ExecuteTime": {
     "end_time": "2024-12-12T13:10:26.116320Z",
     "start_time": "2024-12-12T13:10:26.072326Z"
    }
   },
   "cell_type": "code",
   "source": [
    "fasta_file = './data/AmyHex/Hex142.fasta'\n",
    "peptides, _ = read_fasta(fasta_file)"
   ],
   "id": "cff561cab63ad9d3",
   "outputs": [],
   "execution_count": 3
  },
  {
   "metadata": {
    "ExecuteTime": {
     "end_time": "2024-12-12T13:10:26.156931Z",
     "start_time": "2024-12-12T13:10:26.152719Z"
    }
   },
   "cell_type": "code",
   "source": "",
   "id": "997320a4b4fd4a1a",
   "outputs": [],
   "execution_count": null
  },
  {
   "metadata": {},
   "cell_type": "markdown",
   "source": "## load model",
   "id": "ab3fa9ee1535c42d"
  },
  {
   "metadata": {
    "ExecuteTime": {
     "end_time": "2024-12-12T13:10:47.624876Z",
     "start_time": "2024-12-12T13:10:26.198195Z"
    }
   },
   "cell_type": "code",
   "source": [
    "checkpoint = './checkpoint/APNet.ckpt'\n",
    "batch_size = 256\n",
    "APNet = LitModelInference(LightningModule, DataModule, checkpoint)\n",
    "APNet.set_batch_size(batch_size=batch_size, num_workers=1)"
   ],
   "id": "b0a02b21147a05c5",
   "outputs": [
    {
     "name": "stdout",
     "output_type": "stream",
     "text": [
      "[loading checkpoint]: ./checkpoint/APNet.ckpt\n"
     ]
    },
    {
     "name": "stderr",
     "output_type": "stream",
     "text": [
      "GPU available: True (cuda), used: True\n",
      "TPU available: False, using: 0 TPU cores\n",
      "HPU available: False, using: 0 HPUs\n",
      "Seed set to 42\n"
     ]
    }
   ],
   "execution_count": 4
  },
  {
   "metadata": {
    "ExecuteTime": {
     "end_time": "2024-12-12T13:10:47.662840Z",
     "start_time": "2024-12-12T13:10:47.660479Z"
    }
   },
   "cell_type": "code",
   "source": "",
   "id": "e9cf04e78b9cc0c8",
   "outputs": [],
   "execution_count": null
  },
  {
   "metadata": {},
   "cell_type": "markdown",
   "source": "## run prediction",
   "id": "b93be68808ec19cc"
  },
  {
   "metadata": {
    "ExecuteTime": {
     "end_time": "2024-12-12T13:10:49.367872Z",
     "start_time": "2024-12-12T13:10:47.684897Z"
    }
   },
   "cell_type": "code",
   "source": [
    "predictions = APNet.predict(peptides)\n",
    "results = merge_batch_prediction(predictions)\n",
    "results"
   ],
   "id": "4b9d1b79d724c00",
   "outputs": [
    {
     "name": "stdout",
     "output_type": "stream",
     "text": [
      "[prepare custom predict dataset] 142\n",
      "============================== Setup [predict] Start ==============================\n",
      "[self.predict_dataset] 142\n",
      "============================== Setup [predict] End ==============================\n"
     ]
    },
    {
     "data": {
      "text/plain": [
       "  0%|          | 0/1 [00:00<?, ?it/s]"
      ],
      "application/vnd.jupyter.widget-view+json": {
       "version_major": 2,
       "version_minor": 0,
       "model_id": "f0181530a8bf4537bccdb5181eaae2fb"
      }
     },
     "metadata": {},
     "output_type": "display_data"
    },
    {
     "name": "stdout",
     "output_type": "stream",
     "text": [
      "[Warning]: Cannot concatenate tensor along dimension 0 for key loss\n"
     ]
    },
    {
     "data": {
      "text/plain": [
       "defaultdict(<function utils.lightning.predict_utils.merge_batch_prediction.<locals>.<lambda>()>,\n",
       "            {'loss': {'values': [tensor(0.8899, device='cuda:0')],\n",
       "              'contains_none': False,\n",
       "              'dtype': torch.Tensor},\n",
       "             'preds': tensor([[ 0.6034, -0.3299],\n",
       "                     [-1.8226,  1.5184],\n",
       "                     [-2.0010,  1.7504],\n",
       "                     [-1.6670,  1.5499],\n",
       "                     [-0.4452,  0.3912],\n",
       "                     [-0.4491,  0.4443],\n",
       "                     [ 1.4055, -0.9238],\n",
       "                     [ 0.1318, -0.1484],\n",
       "                     [-2.1993,  2.0481],\n",
       "                     [-1.4407,  1.1843],\n",
       "                     [-1.1774,  0.8891],\n",
       "                     [-1.3242,  1.1815],\n",
       "                     [-1.9393,  1.9351],\n",
       "                     [-1.8672,  1.5460],\n",
       "                     [-3.0202,  2.5418],\n",
       "                     [-1.0115,  0.8029],\n",
       "                     [-1.5662,  1.2414],\n",
       "                     [-2.5067,  2.0936],\n",
       "                     [-3.8842,  3.3633],\n",
       "                     [-1.3322,  1.1962],\n",
       "                     [-0.5924,  0.7935],\n",
       "                     [-0.8523,  0.8429],\n",
       "                     [ 1.6833, -0.9993],\n",
       "                     [-0.7694,  0.7230],\n",
       "                     [-2.3542,  1.9873],\n",
       "                     [ 2.1261, -1.4334],\n",
       "                     [-0.1567,  0.1321],\n",
       "                     [-0.9373,  0.8148],\n",
       "                     [-1.4112,  1.1246],\n",
       "                     [-0.3441,  0.0979],\n",
       "                     [ 3.8109, -3.3487],\n",
       "                     [-0.4924,  0.4625],\n",
       "                     [-2.3558,  2.1197],\n",
       "                     [-1.0988,  1.1595],\n",
       "                     [ 0.2635, -0.0110],\n",
       "                     [-1.0991,  1.0806],\n",
       "                     [-1.0070,  0.8934],\n",
       "                     [ 0.5166, -0.2623],\n",
       "                     [ 3.9810, -3.4244],\n",
       "                     [-0.9672,  1.0647],\n",
       "                     [-0.3251,  0.4981],\n",
       "                     [-2.4799,  2.3131],\n",
       "                     [-1.9516,  1.6417],\n",
       "                     [-0.4919,  0.2496],\n",
       "                     [ 0.4982, -0.5961],\n",
       "                     [-1.1795,  1.1552],\n",
       "                     [-1.0838,  0.9981],\n",
       "                     [-0.1971,  0.1689],\n",
       "                     [ 1.2451, -1.0032],\n",
       "                     [-0.2361,  0.7725],\n",
       "                     [ 0.0674, -0.0413],\n",
       "                     [ 1.1690, -1.1323],\n",
       "                     [ 1.7202, -1.3058],\n",
       "                     [ 4.8742, -3.6740],\n",
       "                     [ 2.5513, -1.5106],\n",
       "                     [ 0.7610, -0.5506],\n",
       "                     [ 2.2611, -2.0249],\n",
       "                     [ 4.6198, -3.4240],\n",
       "                     [ 2.9388, -2.2658],\n",
       "                     [ 0.9552, -0.6330],\n",
       "                     [ 2.2091, -1.6578],\n",
       "                     [ 1.6569, -1.2048],\n",
       "                     [ 2.5955, -1.9866],\n",
       "                     [ 2.2674, -1.4883],\n",
       "                     [ 3.3544, -2.6487],\n",
       "                     [ 4.4740, -3.3604],\n",
       "                     [-0.3971,  0.4524],\n",
       "                     [ 2.7055, -2.2556],\n",
       "                     [-0.5434,  0.4804],\n",
       "                     [-1.6759,  1.5170],\n",
       "                     [ 1.8551, -1.2568],\n",
       "                     [ 0.2567, -0.2045],\n",
       "                     [ 2.2020, -1.3606],\n",
       "                     [ 3.0354, -2.5065],\n",
       "                     [ 3.1632, -2.1361],\n",
       "                     [ 3.4437, -2.7710],\n",
       "                     [ 4.6303, -3.9113],\n",
       "                     [ 1.5072, -1.7031],\n",
       "                     [ 0.0104, -0.0897],\n",
       "                     [-0.0608,  0.4297],\n",
       "                     [-0.0081,  0.3034],\n",
       "                     [ 2.1566, -1.3183],\n",
       "                     [ 1.9828, -1.1371],\n",
       "                     [ 0.9518, -0.6453],\n",
       "                     [ 2.7065, -2.5688],\n",
       "                     [ 2.9248, -2.4481],\n",
       "                     [ 1.6799, -1.2272],\n",
       "                     [ 2.4359, -1.7383],\n",
       "                     [ 1.0567, -0.6556],\n",
       "                     [ 3.9707, -3.3476],\n",
       "                     [ 7.0289, -6.0310],\n",
       "                     [ 0.7332, -0.4786],\n",
       "                     [ 1.6205, -1.3557],\n",
       "                     [ 4.0596, -3.0712],\n",
       "                     [-0.1977,  0.2556],\n",
       "                     [ 0.1099, -0.2045],\n",
       "                     [ 3.4340, -2.8917],\n",
       "                     [ 0.9147, -0.5777],\n",
       "                     [ 2.8553, -2.1067],\n",
       "                     [ 0.5516, -0.0746],\n",
       "                     [ 3.3020, -2.7560],\n",
       "                     [ 2.2976, -1.3816],\n",
       "                     [ 1.8901, -1.4874],\n",
       "                     [ 3.0341, -2.7830],\n",
       "                     [ 2.9699, -2.5199],\n",
       "                     [ 0.1124, -0.0726],\n",
       "                     [ 3.7224, -2.9800],\n",
       "                     [ 1.9163, -1.6322],\n",
       "                     [ 4.0381, -2.7978],\n",
       "                     [ 1.9967, -1.4266],\n",
       "                     [ 0.0654,  0.1601],\n",
       "                     [ 1.2993, -0.9150],\n",
       "                     [ 4.2848, -3.4294],\n",
       "                     [ 0.2700, -0.1404],\n",
       "                     [ 2.9465, -2.3416],\n",
       "                     [ 2.5269, -1.7840],\n",
       "                     [ 3.5435, -2.5779],\n",
       "                     [ 5.9858, -5.0816],\n",
       "                     [-0.1133,  0.2657],\n",
       "                     [ 4.6223, -3.7000],\n",
       "                     [ 1.1377, -0.9526],\n",
       "                     [ 0.1632,  0.0346],\n",
       "                     [ 3.4472, -2.3863],\n",
       "                     [-0.1581,  0.2502],\n",
       "                     [ 5.8312, -4.8959],\n",
       "                     [ 2.7803, -2.0373],\n",
       "                     [ 5.0798, -4.4286],\n",
       "                     [ 3.3097, -2.3286],\n",
       "                     [ 3.0486, -2.6625],\n",
       "                     [ 1.4369, -0.9367],\n",
       "                     [ 3.2382, -2.7236],\n",
       "                     [ 0.4983, -0.3959],\n",
       "                     [ 3.8491, -3.1423],\n",
       "                     [ 1.9020, -1.5381],\n",
       "                     [ 1.8845, -1.4906],\n",
       "                     [ 4.3358, -3.3966],\n",
       "                     [ 2.5535, -2.1071],\n",
       "                     [ 0.9522, -0.8158],\n",
       "                     [ 0.2177, -0.0809],\n",
       "                     [ 3.1825, -2.6916],\n",
       "                     [ 1.5750, -0.9502],\n",
       "                     [ 5.4354, -4.2566]], device='cuda:0'),\n",
       "             'latent': tensor([[-1.0043, -0.3340,  0.8899,  ...,  0.6505,  0.7489,  1.0809],\n",
       "                     [-0.8637, -0.2323,  0.9586,  ...,  0.6536,  0.3516,  1.9811],\n",
       "                     [-0.9686, -0.1894,  0.9998,  ...,  0.5884,  0.3986,  1.9577],\n",
       "                     ...,\n",
       "                     [-0.6241, -0.7314,  0.6738,  ...,  0.9093,  0.8035,  0.7388],\n",
       "                     [-0.3644, -0.5593,  0.6506,  ...,  0.4117,  0.7090,  0.7774],\n",
       "                     [-0.2631, -1.0446,  0.4367,  ...,  0.6563,  1.1406,  0.5866]],\n",
       "                    device='cuda:0'),\n",
       "             'labels': tensor([0, 0, 0, 0, 0, 0, 0, 0, 0, 0, 0, 0, 0, 0, 0, 0, 0, 0, 0, 0, 0, 0, 0, 0,\n",
       "                     0, 0, 0, 0, 0, 0, 0, 0, 0, 0, 0, 0, 0, 0, 0, 0, 0, 0, 0, 0, 0, 0, 0, 0,\n",
       "                     0, 0, 0, 0, 0, 0, 0, 0, 0, 0, 0, 0, 0, 0, 0, 0, 0, 0, 0, 0, 0, 0, 0, 0,\n",
       "                     0, 0, 0, 0, 0, 0, 0, 0, 0, 0, 0, 0, 0, 0, 0, 0, 0, 0, 0, 0, 0, 0, 0, 0,\n",
       "                     0, 0, 0, 0, 0, 0, 0, 0, 0, 0, 0, 0, 0, 0, 0, 0, 0, 0, 0, 0, 0, 0, 0, 0,\n",
       "                     0, 0, 0, 0, 0, 0, 0, 0, 0, 0, 0, 0, 0, 0, 0, 0, 0, 0, 0, 0, 0, 0],\n",
       "                    device='cuda:0'),\n",
       "             'sequences': array(['YVEYIG', 'IQIVYK', 'GYVIIK', 'STVIIL', 'SGVIIE', 'STVIIN',\n",
       "                    'STEIIE', 'QLFLQI', 'LAWVYV', 'VQIVSK', 'VQIVDK', 'KCWCFT',\n",
       "                    'LFTVYV', 'VVIVYK', 'VCIVYK', 'QQIVYK', 'VGIVYK', 'VQIVWK',\n",
       "                    'LAIVYV', 'GGYVLG', 'IIGLMV', 'VQIQYK', 'VQQVYK', 'QILLWS',\n",
       "                    'VQIVYQ', 'QYGGNN', 'HTVIIE', 'KHIIVA', 'VQIVAK', 'GAILSS',\n",
       "                    'LSFSKD', 'SNVIIE', 'NYVWIV', 'AATVYV', 'MIHFGN', 'VQISYK',\n",
       "                    'HFVWIA', 'SELNIY', 'YNNYNN', 'NQNNFV', 'LATVYC', 'FIVNIV',\n",
       "                    'LATVNV', 'GDVIEV', 'DSVISL', 'LACVYV', 'SQVIIE', 'STVIFE',\n",
       "                    'GFFQQQ', 'IINFIT', 'VIVATT', 'NIYQYG', 'FGAFSI', 'SGYQQG',\n",
       "                    'DSNQGN', 'PMINLY', 'NQNMNN', 'AGYQQQ', 'NNNKNN', 'STLTFE',\n",
       "                    'GVVPQY', 'VTLSQP', 'RETWFF', 'QTNLYG', 'GERGFF', 'QQSYGQ',\n",
       "                    'WYFYIQ', 'ANNYSS', 'NTIFVQ', 'SWVIIE', 'MSDSNQ', 'STVILE',\n",
       "                    'SCNNNN', 'SGDGSL', 'ETKEPT', 'GWGSAS', 'KSELPK', 'STVIHE',\n",
       "                    'STLIYE', 'VTQVGF', 'NKGAIK', 'QNYQQY', 'VNNNNI', 'LATVYD',\n",
       "                    'STVPIE', 'AYNAQA', 'STDIIE', 'IYQYGG', 'KGENFT', 'PVKKEE',\n",
       "                    'QAAPKP', 'YNNNLQ', 'FNKFGG', 'QQYNPQ', 'STYIIE', 'VQIGYK',\n",
       "                    'QTDARN', 'SDLTIT', 'GYQQYN', 'SNSGAA', 'LALQTD', 'GGNNSG',\n",
       "                    'GGGNHG', 'DLLKNG', 'TKVEEP', 'STVIIK', 'AENGKS', 'VYSWEW',\n",
       "                    'FGNQSG', 'QQFNPQ', 'LATTYV', 'SNGIVI', 'QSYGQQ', 'LADVYV',\n",
       "                    'QSGFGN', 'NSNTNT', 'NNNNNE', 'EPTREP', 'GNSALA', 'QQSYNP',\n",
       "                    'VSIEDS', 'EATVYV', 'ITQHGG', 'VFFFIG', 'PKPKKT', 'GSGSGF',\n",
       "                    'EPVKKE', 'QGGRGN', 'DVSIED', 'LARVYV', 'IDLTQR', 'STVMIE',\n",
       "                    'PNSANS', 'VTTGVT', 'ATTRTV', 'PVQTEE', 'IFNYNN', 'STVDIE',\n",
       "                    'YQLENY', 'IIPFEQ', 'FQKQQK', 'NPQGGR'], dtype='<U6'),\n",
       "             'tokens': tensor([[ 0, 19,  7,  ..., 12,  6,  2],\n",
       "                     [ 0, 12, 16,  ..., 19, 15,  2],\n",
       "                     [ 0,  6, 19,  ..., 12, 15,  2],\n",
       "                     ...,\n",
       "                     [ 0, 12, 12,  ...,  9, 16,  2],\n",
       "                     [ 0, 18, 16,  ..., 16, 15,  2],\n",
       "                     [ 0, 17, 14,  ...,  6, 10,  2]], device='cuda:0'),\n",
       "             'embeddings': None})"
      ]
     },
     "execution_count": 5,
     "metadata": {},
     "output_type": "execute_result"
    }
   ],
   "execution_count": 5
  },
  {
   "metadata": {
    "ExecuteTime": {
     "end_time": "2024-12-12T13:10:49.524112Z",
     "start_time": "2024-12-12T13:10:49.519119Z"
    }
   },
   "cell_type": "code",
   "source": "",
   "id": "5ccc15add6dc47d7",
   "outputs": [],
   "execution_count": null
  },
  {
   "metadata": {},
   "cell_type": "markdown",
   "source": "## merge results",
   "id": "de0c5744e17404b7"
  },
  {
   "metadata": {
    "ExecuteTime": {
     "end_time": "2024-12-12T13:10:49.603742Z",
     "start_time": "2024-12-12T13:10:49.552661Z"
    }
   },
   "cell_type": "code",
   "source": [
    "probs = results['preds'].cpu().softmax(dim=-1).numpy()\n",
    "pred_labels = ['amyloid' if p[1] > 0.5 else 'non-amyloid' for p in probs]\n",
    "peptide_df = pd.DataFrame({'peptide': peptides,\n",
    "                           'probability': probs[:, 1],\n",
    "                           'label': pred_labels})\n",
    "peptide_df"
   ],
   "id": "d73acd102b217476",
   "outputs": [
    {
     "data": {
      "text/plain": [
       "    peptide  probability        label\n",
       "0    YVEYIG     0.282254  non-amyloid\n",
       "1    IQIVYK     0.965807      amyloid\n",
       "2    GYVIIK     0.977053      amyloid\n",
       "3    STVIIL     0.961463      amyloid\n",
       "4    SGVIIE     0.697697      amyloid\n",
       "..      ...          ...          ...\n",
       "137  STVDIE     0.145791  non-amyloid\n",
       "138  YQLENY     0.425880  non-amyloid\n",
       "139  IIPFEQ     0.002803  non-amyloid\n",
       "140  FQKQQK     0.074111  non-amyloid\n",
       "141  NPQGGR     0.000062  non-amyloid\n",
       "\n",
       "[142 rows x 3 columns]"
      ],
      "text/html": [
       "<div>\n",
       "<style scoped>\n",
       "    .dataframe tbody tr th:only-of-type {\n",
       "        vertical-align: middle;\n",
       "    }\n",
       "\n",
       "    .dataframe tbody tr th {\n",
       "        vertical-align: top;\n",
       "    }\n",
       "\n",
       "    .dataframe thead th {\n",
       "        text-align: right;\n",
       "    }\n",
       "</style>\n",
       "<table border=\"1\" class=\"dataframe\">\n",
       "  <thead>\n",
       "    <tr style=\"text-align: right;\">\n",
       "      <th></th>\n",
       "      <th>peptide</th>\n",
       "      <th>probability</th>\n",
       "      <th>label</th>\n",
       "    </tr>\n",
       "  </thead>\n",
       "  <tbody>\n",
       "    <tr>\n",
       "      <th>0</th>\n",
       "      <td>YVEYIG</td>\n",
       "      <td>0.282254</td>\n",
       "      <td>non-amyloid</td>\n",
       "    </tr>\n",
       "    <tr>\n",
       "      <th>1</th>\n",
       "      <td>IQIVYK</td>\n",
       "      <td>0.965807</td>\n",
       "      <td>amyloid</td>\n",
       "    </tr>\n",
       "    <tr>\n",
       "      <th>2</th>\n",
       "      <td>GYVIIK</td>\n",
       "      <td>0.977053</td>\n",
       "      <td>amyloid</td>\n",
       "    </tr>\n",
       "    <tr>\n",
       "      <th>3</th>\n",
       "      <td>STVIIL</td>\n",
       "      <td>0.961463</td>\n",
       "      <td>amyloid</td>\n",
       "    </tr>\n",
       "    <tr>\n",
       "      <th>4</th>\n",
       "      <td>SGVIIE</td>\n",
       "      <td>0.697697</td>\n",
       "      <td>amyloid</td>\n",
       "    </tr>\n",
       "    <tr>\n",
       "      <th>...</th>\n",
       "      <td>...</td>\n",
       "      <td>...</td>\n",
       "      <td>...</td>\n",
       "    </tr>\n",
       "    <tr>\n",
       "      <th>137</th>\n",
       "      <td>STVDIE</td>\n",
       "      <td>0.145791</td>\n",
       "      <td>non-amyloid</td>\n",
       "    </tr>\n",
       "    <tr>\n",
       "      <th>138</th>\n",
       "      <td>YQLENY</td>\n",
       "      <td>0.425880</td>\n",
       "      <td>non-amyloid</td>\n",
       "    </tr>\n",
       "    <tr>\n",
       "      <th>139</th>\n",
       "      <td>IIPFEQ</td>\n",
       "      <td>0.002803</td>\n",
       "      <td>non-amyloid</td>\n",
       "    </tr>\n",
       "    <tr>\n",
       "      <th>140</th>\n",
       "      <td>FQKQQK</td>\n",
       "      <td>0.074111</td>\n",
       "      <td>non-amyloid</td>\n",
       "    </tr>\n",
       "    <tr>\n",
       "      <th>141</th>\n",
       "      <td>NPQGGR</td>\n",
       "      <td>0.000062</td>\n",
       "      <td>non-amyloid</td>\n",
       "    </tr>\n",
       "  </tbody>\n",
       "</table>\n",
       "<p>142 rows × 3 columns</p>\n",
       "</div>"
      ]
     },
     "execution_count": 6,
     "metadata": {},
     "output_type": "execute_result"
    }
   ],
   "execution_count": 6
  },
  {
   "metadata": {
    "ExecuteTime": {
     "end_time": "2024-12-12T13:10:49.670764Z",
     "start_time": "2024-12-12T13:10:49.668097Z"
    }
   },
   "cell_type": "code",
   "source": "",
   "id": "acd72c4818f10f7",
   "outputs": [],
   "execution_count": null
  },
  {
   "metadata": {
    "ExecuteTime": {
     "end_time": "2024-12-12T13:10:49.743926Z",
     "start_time": "2024-12-12T13:10:49.740966Z"
    }
   },
   "cell_type": "code",
   "source": "",
   "id": "7fc22015d857e4be",
   "outputs": [],
   "execution_count": null
  },
  {
   "metadata": {},
   "cell_type": "markdown",
   "source": "# Protein Aggregation Profile",
   "id": "9ebd76a633a87914"
  },
  {
   "metadata": {
    "ExecuteTime": {
     "end_time": "2024-12-12T13:10:49.807537Z",
     "start_time": "2024-12-12T13:10:49.769239Z"
    }
   },
   "cell_type": "code",
   "source": [
    "APRNet_struct_params = {\n",
    "    'beta': 3.36,\n",
    "    'delta': 0.4,\n",
    "    't_start': 0.51,\n",
    "    't_expand': 0.37,\n",
    "    't_patience': 9,\n",
    "}\n",
    "APRNet_seq_params = {\n",
    "    't_start': 0.46,\n",
    "    't_expand': 0.37,\n",
    "    't_patience': 7,\n",
    "}"
   ],
   "id": "a32097ca1adb0644",
   "outputs": [],
   "execution_count": 7
  },
  {
   "metadata": {
    "ExecuteTime": {
     "end_time": "2024-12-12T13:10:49.873870Z",
     "start_time": "2024-12-12T13:10:49.870204Z"
    }
   },
   "cell_type": "code",
   "source": "",
   "id": "38fdb435aac29746",
   "outputs": [],
   "execution_count": null
  },
  {
   "metadata": {},
   "cell_type": "markdown",
   "source": "## load data",
   "id": "8c4b3b2cbc3817ac"
  },
  {
   "metadata": {
    "ExecuteTime": {
     "end_time": "2024-12-12T13:10:49.949269Z",
     "start_time": "2024-12-12T13:10:49.912599Z"
    }
   },
   "cell_type": "code",
   "source": [
    "# WFL VH\n",
    "sequence = 'QVQLVQSGAEVKKPGSSVKVSCKASGGTFWFGAFTWVRQAPGQGLEWMGGIIPIFGLTNLAQNFQGRVTITADESTSTVYMELSSLRSEDTAVYYCARSSRIYDLNPSLTAYYDMDVWGQGTMVTVSS'\n",
    "structure = None\n",
    "checkpoint = './checkpoint/APNet.ckpt'"
   ],
   "id": "89f37789c75a4d84",
   "outputs": [],
   "execution_count": 8
  },
  {
   "metadata": {
    "ExecuteTime": {
     "end_time": "2024-12-12T13:10:49.978746Z",
     "start_time": "2024-12-12T13:10:49.975732Z"
    }
   },
   "cell_type": "code",
   "source": "",
   "id": "ee4ec1b0b03976a1",
   "outputs": [],
   "execution_count": null
  },
  {
   "metadata": {},
   "cell_type": "markdown",
   "source": "## load model",
   "id": "9415da5e491b2ca1"
  },
  {
   "metadata": {
    "ExecuteTime": {
     "end_time": "2024-12-12T13:11:08.599924Z",
     "start_time": "2024-12-12T13:10:50.025814Z"
    }
   },
   "cell_type": "code",
   "source": [
    "params = APRNet_struct_params if structure is not None else APRNet_seq_params\n",
    "structure = None if structure is None else [structure]\n",
    "\n",
    "# load model\n",
    "APNet = LitModelInference(LightningModule, DataModule, checkpoint)\n",
    "aprnet = APRNet.APRNet(APNet)\n",
    "aprnet"
   ],
   "id": "52f10cbfec69efa1",
   "outputs": [
    {
     "name": "stdout",
     "output_type": "stream",
     "text": [
      "[loading checkpoint]: ./checkpoint/APNet.ckpt\n"
     ]
    },
    {
     "name": "stderr",
     "output_type": "stream",
     "text": [
      "GPU available: True (cuda), used: True\n",
      "TPU available: False, using: 0 TPU cores\n",
      "HPU available: False, using: 0 HPUs\n",
      "Seed set to 42\n"
     ]
    },
    {
     "data": {
      "text/plain": [
       "<model.APRNet.APRNet.APRNet at 0x1512c9bd2f90>"
      ]
     },
     "execution_count": 9,
     "metadata": {},
     "output_type": "execute_result"
    }
   ],
   "execution_count": 9
  },
  {
   "metadata": {
    "ExecuteTime": {
     "end_time": "2024-12-12T13:11:08.748773Z",
     "start_time": "2024-12-12T13:11:08.745088Z"
    }
   },
   "cell_type": "code",
   "source": "",
   "id": "7193f898b7f689dd",
   "outputs": [],
   "execution_count": null
  },
  {
   "metadata": {},
   "cell_type": "markdown",
   "source": "## run prediction",
   "id": "e5a783bc2ef553ee"
  },
  {
   "metadata": {
    "ExecuteTime": {
     "end_time": "2024-12-12T13:11:09.333709Z",
     "start_time": "2024-12-12T13:11:08.778202Z"
    }
   },
   "cell_type": "code",
   "source": "pred_labels, pred_scores = aprnet([sequence], structure, **params)",
   "id": "afb0d61ef4b9e9c1",
   "outputs": [
    {
     "name": "stdout",
     "output_type": "stream",
     "text": [
      "[prepare custom predict dataset] 123\n",
      "============================== Setup [predict] Start ==============================\n",
      "[self.predict_dataset] 123\n",
      "============================== Setup [predict] End ==============================\n"
     ]
    },
    {
     "data": {
      "text/plain": [
       "  0%|          | 0/1 [00:00<?, ?it/s]"
      ],
      "application/vnd.jupyter.widget-view+json": {
       "version_major": 2,
       "version_minor": 0,
       "model_id": "dc0bb369d8824c44ae57a0dc44a4fa7b"
      }
     },
     "metadata": {},
     "output_type": "display_data"
    },
    {
     "name": "stdout",
     "output_type": "stream",
     "text": [
      "[Warning]: Cannot concatenate tensor along dimension 0 for key loss\n"
     ]
    }
   ],
   "execution_count": 10
  },
  {
   "metadata": {
    "ExecuteTime": {
     "end_time": "2024-12-12T13:11:09.646878Z",
     "start_time": "2024-12-12T13:11:09.641833Z"
    }
   },
   "cell_type": "code",
   "source": "",
   "id": "522f6710da5f692a",
   "outputs": [],
   "execution_count": null
  },
  {
   "metadata": {},
   "cell_type": "markdown",
   "source": "## merge results",
   "id": "51c12d5c27c48885"
  },
  {
   "metadata": {
    "ExecuteTime": {
     "end_time": "2024-12-12T13:11:09.722762Z",
     "start_time": "2024-12-12T13:11:09.678560Z"
    }
   },
   "cell_type": "code",
   "source": [
    "labels, scores = pred_labels[0], pred_scores[0]\n",
    "profile_df = pd.DataFrame({'residue': list(sequence),\n",
    "                           'scores': scores,\n",
    "                           'APR': labels})\n",
    "profile_df"
   ],
   "id": "17aea046d4197b4a",
   "outputs": [
    {
     "data": {
      "text/plain": [
       "    residue    scores  APR\n",
       "0         Q  0.078544    0\n",
       "1         V  0.149857    0\n",
       "2         Q  0.154817    0\n",
       "3         L  0.319754    0\n",
       "4         V  0.322026    0\n",
       "..      ...       ...  ...\n",
       "123       V  0.432922    0\n",
       "124       T  0.337510    0\n",
       "125       V  0.149308    0\n",
       "126       S  0.094948    0\n",
       "127       S  0.029403    0\n",
       "\n",
       "[128 rows x 3 columns]"
      ],
      "text/html": [
       "<div>\n",
       "<style scoped>\n",
       "    .dataframe tbody tr th:only-of-type {\n",
       "        vertical-align: middle;\n",
       "    }\n",
       "\n",
       "    .dataframe tbody tr th {\n",
       "        vertical-align: top;\n",
       "    }\n",
       "\n",
       "    .dataframe thead th {\n",
       "        text-align: right;\n",
       "    }\n",
       "</style>\n",
       "<table border=\"1\" class=\"dataframe\">\n",
       "  <thead>\n",
       "    <tr style=\"text-align: right;\">\n",
       "      <th></th>\n",
       "      <th>residue</th>\n",
       "      <th>scores</th>\n",
       "      <th>APR</th>\n",
       "    </tr>\n",
       "  </thead>\n",
       "  <tbody>\n",
       "    <tr>\n",
       "      <th>0</th>\n",
       "      <td>Q</td>\n",
       "      <td>0.078544</td>\n",
       "      <td>0</td>\n",
       "    </tr>\n",
       "    <tr>\n",
       "      <th>1</th>\n",
       "      <td>V</td>\n",
       "      <td>0.149857</td>\n",
       "      <td>0</td>\n",
       "    </tr>\n",
       "    <tr>\n",
       "      <th>2</th>\n",
       "      <td>Q</td>\n",
       "      <td>0.154817</td>\n",
       "      <td>0</td>\n",
       "    </tr>\n",
       "    <tr>\n",
       "      <th>3</th>\n",
       "      <td>L</td>\n",
       "      <td>0.319754</td>\n",
       "      <td>0</td>\n",
       "    </tr>\n",
       "    <tr>\n",
       "      <th>4</th>\n",
       "      <td>V</td>\n",
       "      <td>0.322026</td>\n",
       "      <td>0</td>\n",
       "    </tr>\n",
       "    <tr>\n",
       "      <th>...</th>\n",
       "      <td>...</td>\n",
       "      <td>...</td>\n",
       "      <td>...</td>\n",
       "    </tr>\n",
       "    <tr>\n",
       "      <th>123</th>\n",
       "      <td>V</td>\n",
       "      <td>0.432922</td>\n",
       "      <td>0</td>\n",
       "    </tr>\n",
       "    <tr>\n",
       "      <th>124</th>\n",
       "      <td>T</td>\n",
       "      <td>0.337510</td>\n",
       "      <td>0</td>\n",
       "    </tr>\n",
       "    <tr>\n",
       "      <th>125</th>\n",
       "      <td>V</td>\n",
       "      <td>0.149308</td>\n",
       "      <td>0</td>\n",
       "    </tr>\n",
       "    <tr>\n",
       "      <th>126</th>\n",
       "      <td>S</td>\n",
       "      <td>0.094948</td>\n",
       "      <td>0</td>\n",
       "    </tr>\n",
       "    <tr>\n",
       "      <th>127</th>\n",
       "      <td>S</td>\n",
       "      <td>0.029403</td>\n",
       "      <td>0</td>\n",
       "    </tr>\n",
       "  </tbody>\n",
       "</table>\n",
       "<p>128 rows × 3 columns</p>\n",
       "</div>"
      ]
     },
     "execution_count": 11,
     "metadata": {},
     "output_type": "execute_result"
    }
   ],
   "execution_count": 11
  },
  {
   "metadata": {
    "ExecuteTime": {
     "end_time": "2024-12-12T13:11:09.782072Z",
     "start_time": "2024-12-12T13:11:09.779349Z"
    }
   },
   "cell_type": "code",
   "source": "",
   "id": "5a028611d16c75d9",
   "outputs": [],
   "execution_count": null
  },
  {
   "metadata": {
    "ExecuteTime": {
     "end_time": "2024-12-12T13:11:09.850542Z",
     "start_time": "2024-12-12T13:11:09.847087Z"
    }
   },
   "cell_type": "code",
   "source": "",
   "id": "9b6568ac6c68b7a1",
   "outputs": [],
   "execution_count": null
  }
 ],
 "metadata": {
  "kernelspec": {
   "display_name": "Python [conda env:AggNet]",
   "language": "python",
   "name": "conda-env-AggNet-py"
  },
  "language_info": {
   "codemirror_mode": {
    "name": "ipython",
    "version": 2
   },
   "file_extension": ".py",
   "mimetype": "text/x-python",
   "name": "python",
   "nbconvert_exporter": "python",
   "pygments_lexer": "ipython2",
   "version": "2.7.6"
  }
 },
 "nbformat": 4,
 "nbformat_minor": 5
}
